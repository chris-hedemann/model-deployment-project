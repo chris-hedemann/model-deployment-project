{
 "cells": [
  {
   "attachments": {},
   "cell_type": "markdown",
   "metadata": {},
   "source": [
    "# Register the model in the MLFlow server\n",
    "\n",
    "Use the MlflowClient instance to:\n",
    "\n",
    "- Register a new version for the experiment green-taxi-trip-duration\n",
    "- Retrieve the latests versions of the model \n",
    "- Transition to \"Production\" and adding annotations to it."
   ]
  },
  {
   "cell_type": "code",
   "execution_count": 1,
   "metadata": {},
   "outputs": [],
   "source": [
    "import mlflow\n",
    "from mlflow.tracking.client import MlflowClient\n",
    "import os \n",
    "from dotenv import load_dotenv\n",
    "from datetime import datetime\n",
    "load_dotenv()\n",
    "MLFLOW_TRACKING_URI = os.environ.get(\"MLFLOW_TRACKING_URI\")\n",
    "RUN_ID = os.environ.get(\"RUN_ID\")\n",
    "name=\"yellow-taxi-ride-duration\""
   ]
  },
  {
   "attachments": {},
   "cell_type": "markdown",
   "metadata": {},
   "source": [
    "Connect to the MLFlow server, register the model"
   ]
  },
  {
   "cell_type": "code",
   "execution_count": 2,
   "metadata": {},
   "outputs": [
    {
     "name": "stderr",
     "output_type": "stream",
     "text": [
      "Registered model 'yellow-taxi-ride-duration' already exists. Creating a new version of this model...\n",
      "2023/07/19 15:14:38 INFO mlflow.tracking._model_registry.client: Waiting up to 300 seconds for model version to finish creation. Model name: yellow-taxi-ride-duration, version 5\n",
      "Created version '5' of model 'yellow-taxi-ride-duration'.\n"
     ]
    },
    {
     "data": {
      "text/plain": [
       "<ModelVersion: aliases=[], creation_timestamp=1689772478049, current_stage='None', description='', last_updated_timestamp=1689772478049, name='yellow-taxi-ride-duration', run_id='728c2a4ec38b4838a5e815becb56ca29', run_link='', source='gs://mlflow-artifacts-cjh/default/2/728c2a4ec38b4838a5e815becb56ca29/artifacts/model', status='READY', status_message='', tags={}, user_id='', version='5'>"
      ]
     },
     "execution_count": 2,
     "metadata": {},
     "output_type": "execute_result"
    }
   ],
   "source": [
    "mlflow.set_tracking_uri(MLFLOW_TRACKING_URI)\n",
    "model_uri = f\"runs:/{RUN_ID}/model\"\n",
    "mlflow.register_model(model_uri=model_uri, name=name)"
   ]
  },
  {
   "attachments": {},
   "cell_type": "markdown",
   "metadata": {},
   "source": [
    "Use the MlflowClient to get more information about the model:"
   ]
  },
  {
   "cell_type": "code",
   "execution_count": 3,
   "metadata": {},
   "outputs": [
    {
     "name": "stdout",
     "output_type": "stream",
     "text": [
      "version: 5, stage: None\n",
      "version: 2, stage: Production\n"
     ]
    }
   ],
   "source": [
    "client = MlflowClient(tracking_uri=MLFLOW_TRACKING_URI)\n",
    "model_name = name\n",
    "latest_versions = client.get_latest_versions(name=model_name)\n",
    "\n",
    "for version in latest_versions:\n",
    "    print(f\"version: {version.version}, stage: {version.current_stage}\")"
   ]
  },
  {
   "attachments": {},
   "cell_type": "markdown",
   "metadata": {},
   "source": [
    "We see we only have a version 1 of the model. If we would have registered more artifacts as models under the same name, we would have seen more versions here.\n",
    "But we want to change the stage from `None` to `Production` and add a description to it. \n",
    "\n",
    "First change the stage:"
   ]
  },
  {
   "cell_type": "code",
   "execution_count": 5,
   "metadata": {},
   "outputs": [
    {
     "data": {
      "text/plain": [
       "<ModelVersion: aliases=[], creation_timestamp=1689772478049, current_stage='Production', description='', last_updated_timestamp=1689772478449, name='yellow-taxi-ride-duration', run_id='728c2a4ec38b4838a5e815becb56ca29', run_link='', source='gs://mlflow-artifacts-cjh/default/2/728c2a4ec38b4838a5e815becb56ca29/artifacts/model', status='READY', status_message='', tags={}, user_id='', version='5'>"
      ]
     },
     "execution_count": 5,
     "metadata": {},
     "output_type": "execute_result"
    }
   ],
   "source": [
    "model_version = latest_versions[0].version\n",
    "new_stage = \"Production\"\n",
    "client.transition_model_version_stage(\n",
    "    name=model_name,\n",
    "    version=model_version,\n",
    "    stage=new_stage,\n",
    "    archive_existing_versions=False\n",
    ")"
   ]
  },
  {
   "attachments": {},
   "cell_type": "markdown",
   "metadata": {},
   "source": [
    "Add a description:"
   ]
  },
  {
   "cell_type": "code",
   "execution_count": 6,
   "metadata": {},
   "outputs": [
    {
     "data": {
      "text/plain": [
       "<ModelVersion: aliases=[], creation_timestamp=1689772478049, current_stage='Production', description='The model version 5 was transitioned to Production on 2023-07-19', last_updated_timestamp=1689772478552, name='yellow-taxi-ride-duration', run_id='728c2a4ec38b4838a5e815becb56ca29', run_link='', source='gs://mlflow-artifacts-cjh/default/2/728c2a4ec38b4838a5e815becb56ca29/artifacts/model', status='READY', status_message='', tags={}, user_id='', version='5'>"
      ]
     },
     "execution_count": 6,
     "metadata": {},
     "output_type": "execute_result"
    }
   ],
   "source": [
    "date = datetime.today().date()\n",
    "client.update_model_version(\n",
    "    name=model_name,\n",
    "    version=model_version,\n",
    "    description=f\"The model version {model_version} was transitioned to {new_stage} on {date}\"\n",
    ")"
   ]
  },
  {
   "attachments": {},
   "cell_type": "markdown",
   "metadata": {},
   "source": [
    "Check out the model again to see if the stage change and description were added:"
   ]
  },
  {
   "cell_type": "code",
   "execution_count": 7,
   "metadata": {},
   "outputs": [
    {
     "name": "stdout",
     "output_type": "stream",
     "text": [
      "version: 4, stage: None, description: \n",
      "version: 5, stage: Production, description: The model version 5 was transitioned to Production on 2023-07-19\n"
     ]
    }
   ],
   "source": [
    "latest_versions = client.get_latest_versions(name=model_name)\n",
    "for version in latest_versions:\n",
    "    print(f\"version: {version.version}, stage: {version.current_stage}, description: {version.description}\")"
   ]
  }
 ],
 "metadata": {
  "kernelspec": {
   "display_name": ".venv",
   "language": "python",
   "name": "python3"
  },
  "language_info": {
   "codemirror_mode": {
    "name": "ipython",
    "version": 3
   },
   "file_extension": ".py",
   "mimetype": "text/x-python",
   "name": "python",
   "nbconvert_exporter": "python",
   "pygments_lexer": "ipython3",
   "version": "3.11.3"
  },
  "orig_nbformat": 4
 },
 "nbformat": 4,
 "nbformat_minor": 2
}
